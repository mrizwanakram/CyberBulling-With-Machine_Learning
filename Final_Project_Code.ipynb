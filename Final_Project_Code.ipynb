{
 "cells": [
  {
   "cell_type": "code",
   "execution_count": 1,
   "id": "5bca9a4d",
   "metadata": {},
   "outputs": [],
   "source": [
    "# improting necessary libraries\n",
    "import numpy as np\n",
    "import pandas as pd\n",
    "import matplotlib.pyplot as plt\n",
    "import string\n",
    "import warnings\n",
    "warnings.filterwarnings('ignore')\n",
    "# Import label encoder\n",
    "from sklearn.preprocessing import LabelEncoder\n",
    "from sklearn.model_selection import train_test_split\n",
    "from sklearn.feature_extraction.text import CountVectorizer, TfidfVectorizer\n",
    "from sklearn.metrics import confusion_matrix, accuracy_score, classification_report "
   ]
  },
  {
   "cell_type": "code",
   "execution_count": 2,
   "id": "2c7d51df",
   "metadata": {},
   "outputs": [],
   "source": [
    "# 1. Data Collection \n",
    "reviews_data = pd.read_csv('Cyberbullying_Dataset.csv')"
   ]
  },
  {
   "cell_type": "code",
   "execution_count": 3,
   "id": "a36ef550",
   "metadata": {},
   "outputs": [
    {
     "name": "stdout",
     "output_type": "stream",
     "text": [
      "Shape of the dataset: (2000, 2)\n"
     ]
    },
    {
     "data": {
      "text/html": [
       "<div>\n",
       "<style scoped>\n",
       "    .dataframe tbody tr th:only-of-type {\n",
       "        vertical-align: middle;\n",
       "    }\n",
       "\n",
       "    .dataframe tbody tr th {\n",
       "        vertical-align: top;\n",
       "    }\n",
       "\n",
       "    .dataframe thead th {\n",
       "        text-align: right;\n",
       "    }\n",
       "</style>\n",
       "<table border=\"1\" class=\"dataframe\">\n",
       "  <thead>\n",
       "    <tr style=\"text-align: right;\">\n",
       "      <th></th>\n",
       "      <th>Comments</th>\n",
       "      <th>Classes</th>\n",
       "    </tr>\n",
       "  </thead>\n",
       "  <tbody>\n",
       "    <tr>\n",
       "      <th>0</th>\n",
       "      <td>123A commodity we trade is beet pulp so I aske...</td>\n",
       "      <td>NB</td>\n",
       "    </tr>\n",
       "    <tr>\n",
       "      <th>1</th>\n",
       "      <td>NaN</td>\n",
       "      <td>NB</td>\n",
       "    </tr>\n",
       "    <tr>\n",
       "      <th>2</th>\n",
       "      <td>A never opens all the way until he she is comp...</td>\n",
       "      <td>NB</td>\n",
       "    </tr>\n",
       "    <tr>\n",
       "      <th>3</th>\n",
       "      <td>A porn star who thinks she is better than an e...</td>\n",
       "      <td>NB</td>\n",
       "    </tr>\n",
       "    <tr>\n",
       "      <th>4</th>\n",
       "      <td>about and how sweet she is to every single per...</td>\n",
       "      <td>NB</td>\n",
       "    </tr>\n",
       "    <tr>\n",
       "      <th>...</th>\n",
       "      <td>...</td>\n",
       "      <td>...</td>\n",
       "    </tr>\n",
       "    <tr>\n",
       "      <th>1995</th>\n",
       "      <td>She was already linked. She doesn't care.</td>\n",
       "      <td>NB</td>\n",
       "    </tr>\n",
       "    <tr>\n",
       "      <th>1996</th>\n",
       "      <td>It seems that she doesn't care about facts.</td>\n",
       "      <td>NB</td>\n",
       "    </tr>\n",
       "    <tr>\n",
       "      <th>1997</th>\n",
       "      <td>That girl is hideous in every way.</td>\n",
       "      <td>B</td>\n",
       "    </tr>\n",
       "    <tr>\n",
       "      <th>1998</th>\n",
       "      <td>I appreciate you bringing good content to me, ...</td>\n",
       "      <td>NB</td>\n",
       "    </tr>\n",
       "    <tr>\n",
       "      <th>1999</th>\n",
       "      <td>Was your previous praise tactical or just misp...</td>\n",
       "      <td>NB</td>\n",
       "    </tr>\n",
       "  </tbody>\n",
       "</table>\n",
       "<p>2000 rows × 2 columns</p>\n",
       "</div>"
      ],
      "text/plain": [
       "                                               Comments Classes\n",
       "0     123A commodity we trade is beet pulp so I aske...      NB\n",
       "1                                                   NaN      NB\n",
       "2     A never opens all the way until he she is comp...      NB\n",
       "3     A porn star who thinks she is better than an e...      NB\n",
       "4     about and how sweet she is to every single per...      NB\n",
       "...                                                 ...     ...\n",
       "1995          She was already linked. She doesn't care.      NB\n",
       "1996        It seems that she doesn't care about facts.      NB\n",
       "1997                 That girl is hideous in every way.       B\n",
       "1998  I appreciate you bringing good content to me, ...      NB\n",
       "1999  Was your previous praise tactical or just misp...      NB\n",
       "\n",
       "[2000 rows x 2 columns]"
      ]
     },
     "execution_count": 3,
     "metadata": {},
     "output_type": "execute_result"
    }
   ],
   "source": [
    "print(\"Shape of the dataset:\", reviews_data.shape)\n",
    "\n",
    "reviews_data"
   ]
  },
  {
   "cell_type": "code",
   "execution_count": 4,
   "id": "8b7ca71f",
   "metadata": {},
   "outputs": [
    {
     "name": "stdout",
     "output_type": "stream",
     "text": [
      "Total number of duplicated comments: 9\n",
      "Duplciated Comments in the dataset:\n"
     ]
    },
    {
     "data": {
      "text/html": [
       "<div>\n",
       "<style scoped>\n",
       "    .dataframe tbody tr th:only-of-type {\n",
       "        vertical-align: middle;\n",
       "    }\n",
       "\n",
       "    .dataframe tbody tr th {\n",
       "        vertical-align: top;\n",
       "    }\n",
       "\n",
       "    .dataframe thead th {\n",
       "        text-align: right;\n",
       "    }\n",
       "</style>\n",
       "<table border=\"1\" class=\"dataframe\">\n",
       "  <thead>\n",
       "    <tr style=\"text-align: right;\">\n",
       "      <th></th>\n",
       "      <th>Comments</th>\n",
       "      <th>Classes</th>\n",
       "    </tr>\n",
       "  </thead>\n",
       "  <tbody>\n",
       "    <tr>\n",
       "      <th>1991</th>\n",
       "      <td>Just saw her work from a few days ago. It's br...</td>\n",
       "      <td>NB</td>\n",
       "    </tr>\n",
       "    <tr>\n",
       "      <th>1992</th>\n",
       "      <td>The motive doesn't lessen the outcome.</td>\n",
       "      <td>NB</td>\n",
       "    </tr>\n",
       "    <tr>\n",
       "      <th>1993</th>\n",
       "      <td>Then I have no idea.</td>\n",
       "      <td>NB</td>\n",
       "    </tr>\n",
       "    <tr>\n",
       "      <th>1994</th>\n",
       "      <td>You could think of the worst possible idea eve...</td>\n",
       "      <td>NB</td>\n",
       "    </tr>\n",
       "    <tr>\n",
       "      <th>1995</th>\n",
       "      <td>She was already linked. She doesn't care.</td>\n",
       "      <td>NB</td>\n",
       "    </tr>\n",
       "    <tr>\n",
       "      <th>1996</th>\n",
       "      <td>It seems that she doesn't care about facts.</td>\n",
       "      <td>NB</td>\n",
       "    </tr>\n",
       "    <tr>\n",
       "      <th>1997</th>\n",
       "      <td>That girl is hideous in every way.</td>\n",
       "      <td>B</td>\n",
       "    </tr>\n",
       "    <tr>\n",
       "      <th>1998</th>\n",
       "      <td>I appreciate you bringing good content to me, ...</td>\n",
       "      <td>NB</td>\n",
       "    </tr>\n",
       "    <tr>\n",
       "      <th>1999</th>\n",
       "      <td>Was your previous praise tactical or just misp...</td>\n",
       "      <td>NB</td>\n",
       "    </tr>\n",
       "  </tbody>\n",
       "</table>\n",
       "</div>"
      ],
      "text/plain": [
       "                                               Comments Classes\n",
       "1991  Just saw her work from a few days ago. It's br...      NB\n",
       "1992             The motive doesn't lessen the outcome.      NB\n",
       "1993                               Then I have no idea.      NB\n",
       "1994  You could think of the worst possible idea eve...      NB\n",
       "1995          She was already linked. She doesn't care.      NB\n",
       "1996        It seems that she doesn't care about facts.      NB\n",
       "1997                 That girl is hideous in every way.       B\n",
       "1998  I appreciate you bringing good content to me, ...      NB\n",
       "1999  Was your previous praise tactical or just misp...      NB"
      ]
     },
     "execution_count": 4,
     "metadata": {},
     "output_type": "execute_result"
    }
   ],
   "source": [
    "# checking that is there any duplicated comments.\n",
    "duplicated_comments = reviews_data.duplicated(subset = ['Comments'])\n",
    "print(\"Total number of duplicated comments:\", sum(duplicated_comments))\n",
    "\n",
    "# displaying the duplicated comments...\n",
    "print(\"Duplciated Comments in the dataset:\")\n",
    "reviews_data[duplicated_comments]"
   ]
  },
  {
   "cell_type": "code",
   "execution_count": 5,
   "id": "4b10fe57",
   "metadata": {},
   "outputs": [
    {
     "name": "stdout",
     "output_type": "stream",
     "text": [
      "Shape of reviews_data_non_duplicated: (1991, 2)\n"
     ]
    },
    {
     "data": {
      "text/html": [
       "<div>\n",
       "<style scoped>\n",
       "    .dataframe tbody tr th:only-of-type {\n",
       "        vertical-align: middle;\n",
       "    }\n",
       "\n",
       "    .dataframe tbody tr th {\n",
       "        vertical-align: top;\n",
       "    }\n",
       "\n",
       "    .dataframe thead th {\n",
       "        text-align: right;\n",
       "    }\n",
       "</style>\n",
       "<table border=\"1\" class=\"dataframe\">\n",
       "  <thead>\n",
       "    <tr style=\"text-align: right;\">\n",
       "      <th></th>\n",
       "      <th>Comments</th>\n",
       "      <th>Classes</th>\n",
       "    </tr>\n",
       "  </thead>\n",
       "  <tbody>\n",
       "    <tr>\n",
       "      <th>0</th>\n",
       "      <td>123A commodity we trade is beet pulp so I aske...</td>\n",
       "      <td>NB</td>\n",
       "    </tr>\n",
       "    <tr>\n",
       "      <th>1</th>\n",
       "      <td>NaN</td>\n",
       "      <td>NB</td>\n",
       "    </tr>\n",
       "    <tr>\n",
       "      <th>2</th>\n",
       "      <td>A never opens all the way until he she is comp...</td>\n",
       "      <td>NB</td>\n",
       "    </tr>\n",
       "    <tr>\n",
       "      <th>3</th>\n",
       "      <td>A porn star who thinks she is better than an e...</td>\n",
       "      <td>NB</td>\n",
       "    </tr>\n",
       "    <tr>\n",
       "      <th>4</th>\n",
       "      <td>about and how sweet she is to every single per...</td>\n",
       "      <td>NB</td>\n",
       "    </tr>\n",
       "    <tr>\n",
       "      <th>...</th>\n",
       "      <td>...</td>\n",
       "      <td>...</td>\n",
       "    </tr>\n",
       "    <tr>\n",
       "      <th>1986</th>\n",
       "      <td>SOME women should not be behind the wheel of a...</td>\n",
       "      <td>B</td>\n",
       "    </tr>\n",
       "    <tr>\n",
       "      <th>1987</th>\n",
       "      <td>there are some things girls just shouldn't do</td>\n",
       "      <td>B</td>\n",
       "    </tr>\n",
       "    <tr>\n",
       "      <th>1988</th>\n",
       "      <td>It's very much a job for a lady</td>\n",
       "      <td>B</td>\n",
       "    </tr>\n",
       "    <tr>\n",
       "      <th>1989</th>\n",
       "      <td>I'm not sure if I should listen to a woman giv...</td>\n",
       "      <td>B</td>\n",
       "    </tr>\n",
       "    <tr>\n",
       "      <th>1990</th>\n",
       "      <td>I hate snobby women that don't know there plac...</td>\n",
       "      <td>B</td>\n",
       "    </tr>\n",
       "  </tbody>\n",
       "</table>\n",
       "<p>1991 rows × 2 columns</p>\n",
       "</div>"
      ],
      "text/plain": [
       "                                               Comments Classes\n",
       "0     123A commodity we trade is beet pulp so I aske...      NB\n",
       "1                                                   NaN      NB\n",
       "2     A never opens all the way until he she is comp...      NB\n",
       "3     A porn star who thinks she is better than an e...      NB\n",
       "4     about and how sweet she is to every single per...      NB\n",
       "...                                                 ...     ...\n",
       "1986  SOME women should not be behind the wheel of a...       B\n",
       "1987      there are some things girls just shouldn't do       B\n",
       "1988                    It's very much a job for a lady       B\n",
       "1989  I'm not sure if I should listen to a woman giv...       B\n",
       "1990  I hate snobby women that don't know there plac...       B\n",
       "\n",
       "[1991 rows x 2 columns]"
      ]
     },
     "execution_count": 5,
     "metadata": {},
     "output_type": "execute_result"
    }
   ],
   "source": [
    "# dropping the duplicated comments from the dataset..\n",
    "reviews_data_non_duplicated = reviews_data.drop_duplicates(subset = ['Comments'], keep = 'first')\n",
    "print(\"Shape of reviews_data_non_duplicated:\", reviews_data_non_duplicated.shape)\n",
    "reviews_data_non_duplicated"
   ]
  },
  {
   "cell_type": "code",
   "execution_count": 6,
   "id": "d8a61b14",
   "metadata": {},
   "outputs": [
    {
     "name": "stdout",
     "output_type": "stream",
     "text": [
      "Number of Null/NaN values in dataset column:\n"
     ]
    },
    {
     "data": {
      "text/plain": [
       "Comments    1\n",
       "Classes     8\n",
       "dtype: int64"
      ]
     },
     "execution_count": 6,
     "metadata": {},
     "output_type": "execute_result"
    }
   ],
   "source": [
    "# is there any NULL comments (coment not geiven)\n",
    "print(\"Number of Null/NaN values in dataset column:\")\n",
    "reviews_data_non_duplicated.isnull().sum()"
   ]
  },
  {
   "cell_type": "code",
   "execution_count": 7,
   "id": "ebec3799",
   "metadata": {},
   "outputs": [
    {
     "data": {
      "text/html": [
       "<div>\n",
       "<style scoped>\n",
       "    .dataframe tbody tr th:only-of-type {\n",
       "        vertical-align: middle;\n",
       "    }\n",
       "\n",
       "    .dataframe tbody tr th {\n",
       "        vertical-align: top;\n",
       "    }\n",
       "\n",
       "    .dataframe thead th {\n",
       "        text-align: right;\n",
       "    }\n",
       "</style>\n",
       "<table border=\"1\" class=\"dataframe\">\n",
       "  <thead>\n",
       "    <tr style=\"text-align: right;\">\n",
       "      <th></th>\n",
       "      <th>Comments</th>\n",
       "      <th>Classes</th>\n",
       "    </tr>\n",
       "  </thead>\n",
       "  <tbody>\n",
       "    <tr>\n",
       "      <th>0</th>\n",
       "      <td>123A commodity we trade is beet pulp so I aske...</td>\n",
       "      <td>NB</td>\n",
       "    </tr>\n",
       "    <tr>\n",
       "      <th>2</th>\n",
       "      <td>A never opens all the way until he she is comp...</td>\n",
       "      <td>NB</td>\n",
       "    </tr>\n",
       "    <tr>\n",
       "      <th>3</th>\n",
       "      <td>A porn star who thinks she is better than an e...</td>\n",
       "      <td>NB</td>\n",
       "    </tr>\n",
       "    <tr>\n",
       "      <th>4</th>\n",
       "      <td>about and how sweet she is to every single per...</td>\n",
       "      <td>NB</td>\n",
       "    </tr>\n",
       "    <tr>\n",
       "      <th>5</th>\n",
       "      <td>about and how sweet she is to every single per...</td>\n",
       "      <td>NB</td>\n",
       "    </tr>\n",
       "    <tr>\n",
       "      <th>...</th>\n",
       "      <td>...</td>\n",
       "      <td>...</td>\n",
       "    </tr>\n",
       "    <tr>\n",
       "      <th>1986</th>\n",
       "      <td>SOME women should not be behind the wheel of a...</td>\n",
       "      <td>B</td>\n",
       "    </tr>\n",
       "    <tr>\n",
       "      <th>1987</th>\n",
       "      <td>there are some things girls just shouldn't do</td>\n",
       "      <td>B</td>\n",
       "    </tr>\n",
       "    <tr>\n",
       "      <th>1988</th>\n",
       "      <td>It's very much a job for a lady</td>\n",
       "      <td>B</td>\n",
       "    </tr>\n",
       "    <tr>\n",
       "      <th>1989</th>\n",
       "      <td>I'm not sure if I should listen to a woman giv...</td>\n",
       "      <td>B</td>\n",
       "    </tr>\n",
       "    <tr>\n",
       "      <th>1990</th>\n",
       "      <td>I hate snobby women that don't know there plac...</td>\n",
       "      <td>B</td>\n",
       "    </tr>\n",
       "  </tbody>\n",
       "</table>\n",
       "<p>1982 rows × 2 columns</p>\n",
       "</div>"
      ],
      "text/plain": [
       "                                               Comments Classes\n",
       "0     123A commodity we trade is beet pulp so I aske...      NB\n",
       "2     A never opens all the way until he she is comp...      NB\n",
       "3     A porn star who thinks she is better than an e...      NB\n",
       "4     about and how sweet she is to every single per...      NB\n",
       "5     about and how sweet she is to every single per...      NB\n",
       "...                                                 ...     ...\n",
       "1986  SOME women should not be behind the wheel of a...       B\n",
       "1987      there are some things girls just shouldn't do       B\n",
       "1988                    It's very much a job for a lady       B\n",
       "1989  I'm not sure if I should listen to a woman giv...       B\n",
       "1990  I hate snobby women that don't know there plac...       B\n",
       "\n",
       "[1982 rows x 2 columns]"
      ]
     },
     "execution_count": 7,
     "metadata": {},
     "output_type": "execute_result"
    }
   ],
   "source": [
    "# dropping the rows (records) which have Null/NaN vlaues inside.\n",
    "reviews_data_cleaned = reviews_data_non_duplicated.dropna()\n",
    "reviews_data_cleaned"
   ]
  },
  {
   "cell_type": "code",
   "execution_count": 8,
   "id": "24c04ec4",
   "metadata": {},
   "outputs": [
    {
     "data": {
      "text/html": [
       "<div>\n",
       "<style scoped>\n",
       "    .dataframe tbody tr th:only-of-type {\n",
       "        vertical-align: middle;\n",
       "    }\n",
       "\n",
       "    .dataframe tbody tr th {\n",
       "        vertical-align: top;\n",
       "    }\n",
       "\n",
       "    .dataframe thead th {\n",
       "        text-align: right;\n",
       "    }\n",
       "</style>\n",
       "<table border=\"1\" class=\"dataframe\">\n",
       "  <thead>\n",
       "    <tr style=\"text-align: right;\">\n",
       "      <th></th>\n",
       "      <th>Comments</th>\n",
       "      <th>Classes</th>\n",
       "    </tr>\n",
       "  </thead>\n",
       "  <tbody>\n",
       "    <tr>\n",
       "      <th>0</th>\n",
       "      <td>123A commodity we trade is beet pulp so I aske...</td>\n",
       "      <td>NB</td>\n",
       "    </tr>\n",
       "    <tr>\n",
       "      <th>2</th>\n",
       "      <td>A never opens all the way until he she is comp...</td>\n",
       "      <td>NB</td>\n",
       "    </tr>\n",
       "    <tr>\n",
       "      <th>3</th>\n",
       "      <td>A porn star who thinks she is better than an e...</td>\n",
       "      <td>NB</td>\n",
       "    </tr>\n",
       "    <tr>\n",
       "      <th>4</th>\n",
       "      <td>about and how sweet she is to every single per...</td>\n",
       "      <td>NB</td>\n",
       "    </tr>\n",
       "    <tr>\n",
       "      <th>5</th>\n",
       "      <td>about and how sweet she is to every single per...</td>\n",
       "      <td>NB</td>\n",
       "    </tr>\n",
       "    <tr>\n",
       "      <th>...</th>\n",
       "      <td>...</td>\n",
       "      <td>...</td>\n",
       "    </tr>\n",
       "    <tr>\n",
       "      <th>1986</th>\n",
       "      <td>SOME women should not be behind the wheel of a...</td>\n",
       "      <td>B</td>\n",
       "    </tr>\n",
       "    <tr>\n",
       "      <th>1987</th>\n",
       "      <td>there are some things girls just shouldnt do</td>\n",
       "      <td>B</td>\n",
       "    </tr>\n",
       "    <tr>\n",
       "      <th>1988</th>\n",
       "      <td>Its very much a job for a lady</td>\n",
       "      <td>B</td>\n",
       "    </tr>\n",
       "    <tr>\n",
       "      <th>1989</th>\n",
       "      <td>Im not sure if I should listen to a woman givi...</td>\n",
       "      <td>B</td>\n",
       "    </tr>\n",
       "    <tr>\n",
       "      <th>1990</th>\n",
       "      <td>I hate snobby women that dont know there place...</td>\n",
       "      <td>B</td>\n",
       "    </tr>\n",
       "  </tbody>\n",
       "</table>\n",
       "<p>1982 rows × 2 columns</p>\n",
       "</div>"
      ],
      "text/plain": [
       "                                               Comments Classes\n",
       "0     123A commodity we trade is beet pulp so I aske...      NB\n",
       "2     A never opens all the way until he she is comp...      NB\n",
       "3     A porn star who thinks she is better than an e...      NB\n",
       "4     about and how sweet she is to every single per...      NB\n",
       "5     about and how sweet she is to every single per...      NB\n",
       "...                                                 ...     ...\n",
       "1986  SOME women should not be behind the wheel of a...       B\n",
       "1987       there are some things girls just shouldnt do       B\n",
       "1988                     Its very much a job for a lady       B\n",
       "1989  Im not sure if I should listen to a woman givi...       B\n",
       "1990  I hate snobby women that dont know there place...       B\n",
       "\n",
       "[1982 rows x 2 columns]"
      ]
     },
     "execution_count": 8,
     "metadata": {},
     "output_type": "execute_result"
    }
   ],
   "source": [
    "# 2. Data Preparation.\n",
    "\n",
    "# Task 1: Removing special characters (punctuation ) from comments\n",
    "def remove_puncuation(txt):\n",
    "    txt_nopunct = \"\".join([char for char in txt if char not in string.punctuation])\n",
    "    return txt_nopunct\n",
    "\n",
    "\n",
    "reviews_data_cleaned['Comments'] = reviews_data_cleaned['Comments'].apply(lambda x: remove_puncuation(x))\n",
    "reviews_data_cleaned"
   ]
  },
  {
   "cell_type": "code",
   "execution_count": 9,
   "id": "d5ac1388",
   "metadata": {},
   "outputs": [
    {
     "data": {
      "text/html": [
       "<div>\n",
       "<style scoped>\n",
       "    .dataframe tbody tr th:only-of-type {\n",
       "        vertical-align: middle;\n",
       "    }\n",
       "\n",
       "    .dataframe tbody tr th {\n",
       "        vertical-align: top;\n",
       "    }\n",
       "\n",
       "    .dataframe thead th {\n",
       "        text-align: right;\n",
       "    }\n",
       "</style>\n",
       "<table border=\"1\" class=\"dataframe\">\n",
       "  <thead>\n",
       "    <tr style=\"text-align: right;\">\n",
       "      <th></th>\n",
       "      <th>Comments</th>\n",
       "      <th>Classes</th>\n",
       "    </tr>\n",
       "  </thead>\n",
       "  <tbody>\n",
       "    <tr>\n",
       "      <th>0</th>\n",
       "      <td>A commodity we trade is beet pulp so I asked a...</td>\n",
       "      <td>NB</td>\n",
       "    </tr>\n",
       "    <tr>\n",
       "      <th>2</th>\n",
       "      <td>A never opens all the way until he she is comp...</td>\n",
       "      <td>NB</td>\n",
       "    </tr>\n",
       "    <tr>\n",
       "      <th>3</th>\n",
       "      <td>A porn star who thinks she is better than an e...</td>\n",
       "      <td>NB</td>\n",
       "    </tr>\n",
       "    <tr>\n",
       "      <th>4</th>\n",
       "      <td>about and how sweet she is to every single per...</td>\n",
       "      <td>NB</td>\n",
       "    </tr>\n",
       "    <tr>\n",
       "      <th>5</th>\n",
       "      <td>about and how sweet she is to every single per...</td>\n",
       "      <td>NB</td>\n",
       "    </tr>\n",
       "    <tr>\n",
       "      <th>...</th>\n",
       "      <td>...</td>\n",
       "      <td>...</td>\n",
       "    </tr>\n",
       "    <tr>\n",
       "      <th>1986</th>\n",
       "      <td>SOME women should not be behind the wheel of a...</td>\n",
       "      <td>B</td>\n",
       "    </tr>\n",
       "    <tr>\n",
       "      <th>1987</th>\n",
       "      <td>there are some things girls just shouldnt do</td>\n",
       "      <td>B</td>\n",
       "    </tr>\n",
       "    <tr>\n",
       "      <th>1988</th>\n",
       "      <td>Its very much a job for a lady</td>\n",
       "      <td>B</td>\n",
       "    </tr>\n",
       "    <tr>\n",
       "      <th>1989</th>\n",
       "      <td>Im not sure if I should listen to a woman givi...</td>\n",
       "      <td>B</td>\n",
       "    </tr>\n",
       "    <tr>\n",
       "      <th>1990</th>\n",
       "      <td>I hate snobby women that dont know there place...</td>\n",
       "      <td>B</td>\n",
       "    </tr>\n",
       "  </tbody>\n",
       "</table>\n",
       "<p>1982 rows × 2 columns</p>\n",
       "</div>"
      ],
      "text/plain": [
       "                                               Comments Classes\n",
       "0     A commodity we trade is beet pulp so I asked a...      NB\n",
       "2     A never opens all the way until he she is comp...      NB\n",
       "3     A porn star who thinks she is better than an e...      NB\n",
       "4     about and how sweet she is to every single per...      NB\n",
       "5     about and how sweet she is to every single per...      NB\n",
       "...                                                 ...     ...\n",
       "1986  SOME women should not be behind the wheel of a...       B\n",
       "1987       there are some things girls just shouldnt do       B\n",
       "1988                     Its very much a job for a lady       B\n",
       "1989  Im not sure if I should listen to a woman givi...       B\n",
       "1990  I hate snobby women that dont know there place...       B\n",
       "\n",
       "[1982 rows x 2 columns]"
      ]
     },
     "execution_count": 9,
     "metadata": {},
     "output_type": "execute_result"
    }
   ],
   "source": [
    "# Task 2: Removing digits (number) from comments\n",
    "def remove_digits(txt):\n",
    "    txt_nodigit = \"\".join([char for char in txt if not char.isdigit()])\n",
    "    return txt_nodigit\n",
    "\n",
    "\n",
    "reviews_data_cleaned['Comments'] = reviews_data_cleaned['Comments'].apply(lambda x: remove_digits(x))\n",
    "reviews_data_cleaned"
   ]
  },
  {
   "cell_type": "code",
   "execution_count": 10,
   "id": "e49df0fa",
   "metadata": {},
   "outputs": [
    {
     "data": {
      "text/html": [
       "<div>\n",
       "<style scoped>\n",
       "    .dataframe tbody tr th:only-of-type {\n",
       "        vertical-align: middle;\n",
       "    }\n",
       "\n",
       "    .dataframe tbody tr th {\n",
       "        vertical-align: top;\n",
       "    }\n",
       "\n",
       "    .dataframe thead th {\n",
       "        text-align: right;\n",
       "    }\n",
       "</style>\n",
       "<table border=\"1\" class=\"dataframe\">\n",
       "  <thead>\n",
       "    <tr style=\"text-align: right;\">\n",
       "      <th></th>\n",
       "      <th>Comments</th>\n",
       "      <th>Classes</th>\n",
       "    </tr>\n",
       "  </thead>\n",
       "  <tbody>\n",
       "    <tr>\n",
       "      <th>0</th>\n",
       "      <td>a commodity we trade is beet pulp so i asked a...</td>\n",
       "      <td>NB</td>\n",
       "    </tr>\n",
       "    <tr>\n",
       "      <th>2</th>\n",
       "      <td>a never opens all the way until he she is comp...</td>\n",
       "      <td>NB</td>\n",
       "    </tr>\n",
       "    <tr>\n",
       "      <th>3</th>\n",
       "      <td>a porn star who thinks she is better than an e...</td>\n",
       "      <td>NB</td>\n",
       "    </tr>\n",
       "    <tr>\n",
       "      <th>4</th>\n",
       "      <td>about and how sweet she is to every single per...</td>\n",
       "      <td>NB</td>\n",
       "    </tr>\n",
       "    <tr>\n",
       "      <th>5</th>\n",
       "      <td>about and how sweet she is to every single per...</td>\n",
       "      <td>NB</td>\n",
       "    </tr>\n",
       "    <tr>\n",
       "      <th>...</th>\n",
       "      <td>...</td>\n",
       "      <td>...</td>\n",
       "    </tr>\n",
       "    <tr>\n",
       "      <th>1986</th>\n",
       "      <td>some women should not be behind the wheel of a...</td>\n",
       "      <td>B</td>\n",
       "    </tr>\n",
       "    <tr>\n",
       "      <th>1987</th>\n",
       "      <td>there are some things girls just shouldnt do</td>\n",
       "      <td>B</td>\n",
       "    </tr>\n",
       "    <tr>\n",
       "      <th>1988</th>\n",
       "      <td>its very much a job for a lady</td>\n",
       "      <td>B</td>\n",
       "    </tr>\n",
       "    <tr>\n",
       "      <th>1989</th>\n",
       "      <td>im not sure if i should listen to a woman givi...</td>\n",
       "      <td>B</td>\n",
       "    </tr>\n",
       "    <tr>\n",
       "      <th>1990</th>\n",
       "      <td>i hate snobby women that dont know there place...</td>\n",
       "      <td>B</td>\n",
       "    </tr>\n",
       "  </tbody>\n",
       "</table>\n",
       "<p>1982 rows × 2 columns</p>\n",
       "</div>"
      ],
      "text/plain": [
       "                                               Comments Classes\n",
       "0     a commodity we trade is beet pulp so i asked a...      NB\n",
       "2     a never opens all the way until he she is comp...      NB\n",
       "3     a porn star who thinks she is better than an e...      NB\n",
       "4     about and how sweet she is to every single per...      NB\n",
       "5     about and how sweet she is to every single per...      NB\n",
       "...                                                 ...     ...\n",
       "1986  some women should not be behind the wheel of a...       B\n",
       "1987       there are some things girls just shouldnt do       B\n",
       "1988                     its very much a job for a lady       B\n",
       "1989  im not sure if i should listen to a woman givi...       B\n",
       "1990  i hate snobby women that dont know there place...       B\n",
       "\n",
       "[1982 rows x 2 columns]"
      ]
     },
     "execution_count": 10,
     "metadata": {},
     "output_type": "execute_result"
    }
   ],
   "source": [
    "# converting text into lower case...\n",
    "reviews_data_cleaned['Comments'] = reviews_data_cleaned['Comments'].str.lower()\n",
    "reviews_data_cleaned"
   ]
  },
  {
   "cell_type": "markdown",
   "id": "d75d760f",
   "metadata": {},
   "source": [
    "In order to remove commeon english words (stop_words)\n",
    "\n",
    "stop_words{‘english’}, list, default=None\n",
    "If a string, it is passed to _check_stop_list and the appropriate stop list is returned. ‘english’ is currently the only supported string value. There are several known issues with ‘english’ and you should consider an alternative (see Using stop words).\n",
    "\n",
    "If a list, that list is assumed to contain stop words, all of which will be removed from the resulting tokens. Only applies if analyzer == 'word'."
   ]
  },
  {
   "cell_type": "code",
   "execution_count": 11,
   "id": "ef6f1fc5",
   "metadata": {},
   "outputs": [
    {
     "name": "stdout",
     "output_type": "stream",
     "text": [
      "Unique values in 'Classes' column: ['NB' 'B']\n"
     ]
    },
    {
     "data": {
      "text/html": [
       "<div>\n",
       "<style scoped>\n",
       "    .dataframe tbody tr th:only-of-type {\n",
       "        vertical-align: middle;\n",
       "    }\n",
       "\n",
       "    .dataframe tbody tr th {\n",
       "        vertical-align: top;\n",
       "    }\n",
       "\n",
       "    .dataframe thead th {\n",
       "        text-align: right;\n",
       "    }\n",
       "</style>\n",
       "<table border=\"1\" class=\"dataframe\">\n",
       "  <thead>\n",
       "    <tr style=\"text-align: right;\">\n",
       "      <th></th>\n",
       "      <th>Comments</th>\n",
       "      <th>Classes</th>\n",
       "      <th>Classes_Labels</th>\n",
       "    </tr>\n",
       "  </thead>\n",
       "  <tbody>\n",
       "    <tr>\n",
       "      <th>0</th>\n",
       "      <td>a commodity we trade is beet pulp so i asked a...</td>\n",
       "      <td>NB</td>\n",
       "      <td>0</td>\n",
       "    </tr>\n",
       "    <tr>\n",
       "      <th>2</th>\n",
       "      <td>a never opens all the way until he she is comp...</td>\n",
       "      <td>NB</td>\n",
       "      <td>0</td>\n",
       "    </tr>\n",
       "    <tr>\n",
       "      <th>3</th>\n",
       "      <td>a porn star who thinks she is better than an e...</td>\n",
       "      <td>NB</td>\n",
       "      <td>0</td>\n",
       "    </tr>\n",
       "    <tr>\n",
       "      <th>4</th>\n",
       "      <td>about and how sweet she is to every single per...</td>\n",
       "      <td>NB</td>\n",
       "      <td>0</td>\n",
       "    </tr>\n",
       "    <tr>\n",
       "      <th>5</th>\n",
       "      <td>about and how sweet she is to every single per...</td>\n",
       "      <td>NB</td>\n",
       "      <td>0</td>\n",
       "    </tr>\n",
       "    <tr>\n",
       "      <th>...</th>\n",
       "      <td>...</td>\n",
       "      <td>...</td>\n",
       "      <td>...</td>\n",
       "    </tr>\n",
       "    <tr>\n",
       "      <th>1986</th>\n",
       "      <td>some women should not be behind the wheel of a...</td>\n",
       "      <td>B</td>\n",
       "      <td>1</td>\n",
       "    </tr>\n",
       "    <tr>\n",
       "      <th>1987</th>\n",
       "      <td>there are some things girls just shouldnt do</td>\n",
       "      <td>B</td>\n",
       "      <td>1</td>\n",
       "    </tr>\n",
       "    <tr>\n",
       "      <th>1988</th>\n",
       "      <td>its very much a job for a lady</td>\n",
       "      <td>B</td>\n",
       "      <td>1</td>\n",
       "    </tr>\n",
       "    <tr>\n",
       "      <th>1989</th>\n",
       "      <td>im not sure if i should listen to a woman givi...</td>\n",
       "      <td>B</td>\n",
       "      <td>1</td>\n",
       "    </tr>\n",
       "    <tr>\n",
       "      <th>1990</th>\n",
       "      <td>i hate snobby women that dont know there place...</td>\n",
       "      <td>B</td>\n",
       "      <td>1</td>\n",
       "    </tr>\n",
       "  </tbody>\n",
       "</table>\n",
       "<p>1982 rows × 3 columns</p>\n",
       "</div>"
      ],
      "text/plain": [
       "                                               Comments Classes  \\\n",
       "0     a commodity we trade is beet pulp so i asked a...      NB   \n",
       "2     a never opens all the way until he she is comp...      NB   \n",
       "3     a porn star who thinks she is better than an e...      NB   \n",
       "4     about and how sweet she is to every single per...      NB   \n",
       "5     about and how sweet she is to every single per...      NB   \n",
       "...                                                 ...     ...   \n",
       "1986  some women should not be behind the wheel of a...       B   \n",
       "1987       there are some things girls just shouldnt do       B   \n",
       "1988                     its very much a job for a lady       B   \n",
       "1989  im not sure if i should listen to a woman givi...       B   \n",
       "1990  i hate snobby women that dont know there place...       B   \n",
       "\n",
       "      Classes_Labels  \n",
       "0                  0  \n",
       "2                  0  \n",
       "3                  0  \n",
       "4                  0  \n",
       "5                  0  \n",
       "...              ...  \n",
       "1986               1  \n",
       "1987               1  \n",
       "1988               1  \n",
       "1989               1  \n",
       "1990               1  \n",
       "\n",
       "[1982 rows x 3 columns]"
      ]
     },
     "execution_count": 11,
     "metadata": {},
     "output_type": "execute_result"
    }
   ],
   "source": [
    "# converting classes into binary [0, 1] using Label Enconder\n",
    "print(\"Unique values in 'Classes' column:\", reviews_data_cleaned['Classes'].unique() )\n",
    "\n",
    "classes_labels = {'NB':0, 'B':1}\n",
    "\n",
    "reviews_data_cleaned['Classes_Labels'] = reviews_data_cleaned['Classes'].map(classes_labels)\n",
    "reviews_data_cleaned"
   ]
  },
  {
   "cell_type": "code",
   "execution_count": 12,
   "id": "158a2c0c",
   "metadata": {},
   "outputs": [
    {
     "name": "stdout",
     "output_type": "stream",
     "text": [
      "First Five user_reviews:\n",
      " 0    a commodity we trade is beet pulp so i asked a...\n",
      "2    a never opens all the way until he she is comp...\n",
      "3    a porn star who thinks she is better than an e...\n",
      "4    about and how sweet she is to every single per...\n",
      "5    about and how sweet she is to every single per...\n",
      "Name: Comments, dtype: object \n",
      "\n",
      "First Five reviews_classes:\n",
      "    Classes_Labels\n",
      "0               0\n",
      "2               0\n",
      "3               0\n",
      "4               0\n",
      "5               0\n"
     ]
    }
   ],
   "source": [
    "# Splitting the dataset into comments (features) and target (Classes)\n",
    "user_reviews = reviews_data_cleaned.loc[:, 'Comments']  # getting comments\n",
    "reviews_classes = reviews_data_cleaned.loc[:, ['Classes_Labels']]  # getting Classes\n",
    "\n",
    "print(\"First Five user_reviews:\\n\", user_reviews.head(), \"\\n\")\n",
    "print(\"First Five reviews_classes:\\n\", reviews_classes.head())"
   ]
  },
  {
   "cell_type": "code",
   "execution_count": 13,
   "id": "0e73d7c5",
   "metadata": {},
   "outputs": [
    {
     "name": "stdout",
     "output_type": "stream",
     "text": [
      "Shape of the user_reviews: (1982,)\n",
      "Shae of the reviews_classes: (1982, 1)\n"
     ]
    }
   ],
   "source": [
    "print(\"Shape of the user_reviews:\", user_reviews.shape )\n",
    "print(\"Shae of the reviews_classes:\", reviews_classes.shape )"
   ]
  },
  {
   "cell_type": "code",
   "execution_count": 14,
   "id": "daadd478",
   "metadata": {},
   "outputs": [],
   "source": [
    "# Splitting the data into train and test set..\n",
    "# 70% for training and 30% for testing..\n",
    "train_review, test_review, train_label, test_label = train_test_split(user_reviews, reviews_classes, \n",
    "                                                                      test_size = 0.30, \n",
    "                                                                      random_state = 42)"
   ]
  },
  {
   "cell_type": "code",
   "execution_count": 15,
   "id": "9f3bfe8a",
   "metadata": {},
   "outputs": [
    {
     "name": "stdout",
     "output_type": "stream",
     "text": [
      "Shape of train_review and train_label: (1387,) (1387, 1)\n",
      "Shape of test_review and label_test: (595,) (595, 1)\n"
     ]
    }
   ],
   "source": [
    "print(\"Shape of train_review and train_label:\", train_review.shape, train_label.shape)\n",
    "print(\"Shape of test_review and label_test:\", test_review.shape, test_label.shape)"
   ]
  },
  {
   "cell_type": "code",
   "execution_count": 16,
   "id": "6ac8d916",
   "metadata": {},
   "outputs": [
    {
     "name": "stdout",
     "output_type": "stream",
     "text": [
      "First five train reviews and their labels:\n",
      "287     i was almost giving up but i wont please look ...\n",
      "1806         sassy girls you arent sassy more like bitchy\n",
      "723     remember who you are and what she is shes wrot...\n",
      "1433    every time you text me my cheeks hurt i guess ...\n",
      "783     she is nearly home one more day and steffy ret...\n",
      "Name: Comments, dtype: object\n",
      "      Classes_Labels\n",
      "287                0\n",
      "1806               1\n",
      "723                0\n",
      "1433               0\n",
      "783                0\n"
     ]
    }
   ],
   "source": [
    "print(\"First five train reviews and their labels:\")\n",
    "print(train_review[:5])\n",
    "print(train_label[:5])"
   ]
  },
  {
   "cell_type": "code",
   "execution_count": 17,
   "id": "6d53fec9",
   "metadata": {},
   "outputs": [],
   "source": [
    "# Applying CountVectorizer\n",
    "tfidf_vectorizer = TfidfVectorizer()"
   ]
  },
  {
   "cell_type": "code",
   "execution_count": 18,
   "id": "fab3329e",
   "metadata": {},
   "outputs": [
    {
     "name": "stdout",
     "output_type": "stream",
     "text": [
      "Shape of Train_review_vectors: (1387, 3456)\n"
     ]
    }
   ],
   "source": [
    "# Fitting and transforming countvectorizer on train_reviews\n",
    "train_review_vectors = tfidf_vectorizer.fit_transform(train_review)\n",
    "print(\"Shape of Train_review_vectors:\", train_review_vectors.shape)"
   ]
  },
  {
   "cell_type": "code",
   "execution_count": 19,
   "id": "a7a8e378",
   "metadata": {},
   "outputs": [
    {
     "name": "stdout",
     "output_type": "stream",
     "text": [
      "Shape of test_review_vectors: (595, 3456)\n"
     ]
    }
   ],
   "source": [
    "# transforming only on test_reviews using count_vectorizer\n",
    "test_review_vectors = tfidf_vectorizer.transform(test_review)\n",
    "print(\"Shape of test_review_vectors:\", test_review_vectors.shape)"
   ]
  },
  {
   "cell_type": "markdown",
   "id": "1be4fbcb",
   "metadata": {},
   "source": [
    "### Classification Algorithms"
   ]
  },
  {
   "cell_type": "markdown",
   "id": "0f459200",
   "metadata": {},
   "source": [
    "##### 1) Multinomial Naive Bayes (MNB)-- Naive Bayes Algorithm"
   ]
  },
  {
   "cell_type": "code",
   "execution_count": 20,
   "id": "34cf0746",
   "metadata": {},
   "outputs": [],
   "source": [
    "from sklearn.naive_bayes import MultinomialNB"
   ]
  },
  {
   "cell_type": "code",
   "execution_count": 21,
   "id": "5d5b6236",
   "metadata": {},
   "outputs": [],
   "source": [
    "multi_nb_clf = MultinomialNB()"
   ]
  },
  {
   "cell_type": "code",
   "execution_count": 22,
   "id": "066741d2",
   "metadata": {},
   "outputs": [
    {
     "data": {
      "text/plain": [
       "MultinomialNB()"
      ]
     },
     "execution_count": 22,
     "metadata": {},
     "output_type": "execute_result"
    }
   ],
   "source": [
    "# training the model on train_set.\n",
    "multi_nb_clf.fit(train_review_vectors.toarray(), train_label) # providing train_review_vectors and train_labels"
   ]
  },
  {
   "cell_type": "code",
   "execution_count": 23,
   "id": "dc823e31",
   "metadata": {},
   "outputs": [],
   "source": [
    "# prediction on test_review_vectors\n",
    "predictions_multi_nb_clf = multi_nb_clf.predict(test_review_vectors.toarray())"
   ]
  },
  {
   "cell_type": "code",
   "execution_count": 24,
   "id": "fa6f8abe",
   "metadata": {},
   "outputs": [
    {
     "name": "stdout",
     "output_type": "stream",
     "text": [
      "First five groud_truth labels of test_label:\n",
      "       Classes_Labels\n",
      "583                1\n",
      "1968               1\n",
      "1253               1\n",
      "1103               0\n",
      "925                0\n",
      "First five Predicted:\n",
      " [1 0 1 0 0]\n"
     ]
    }
   ],
   "source": [
    "# comparing the true_labels and predicted_labels\n",
    "print(\"First five groud_truth labels of test_label:\\n\", test_label[:5])\n",
    "print(\"First five Predicted:\\n\", predictions_multi_nb_clf[:5])"
   ]
  },
  {
   "cell_type": "code",
   "execution_count": 25,
   "id": "5fbeb142",
   "metadata": {},
   "outputs": [
    {
     "name": "stdout",
     "output_type": "stream",
     "text": [
      "Performance Evaluation of Multinomial Nayes Bayes (MNB) Algorithm:\n",
      "Confusion Matrix:\n",
      " [[353   4]\n",
      " [105 133]]\n",
      "Accuracy: 81.68067226890756\n",
      "Classification Report:\n",
      "               precision    recall  f1-score   support\n",
      "\n",
      "          NB       0.77      0.99      0.87       357\n",
      "           B       0.97      0.56      0.71       238\n",
      "\n",
      "    accuracy                           0.82       595\n",
      "   macro avg       0.87      0.77      0.79       595\n",
      "weighted avg       0.85      0.82      0.80       595\n",
      "\n"
     ]
    }
   ],
   "source": [
    "# Performnce Evaluation of Multinomial Nayes Bayes (MNB)\n",
    "print(\"Performance Evaluation of Multinomial Nayes Bayes (MNB) Algorithm:\")\n",
    "print(\"Confusion Matrix:\\n\", confusion_matrix(test_label, predictions_multi_nb_clf) )\n",
    "multi_nb_clf_acc = accuracy_score(test_label, predictions_multi_nb_clf)*100.0\n",
    "print(\"Accuracy:\", multi_nb_clf_acc)\n",
    "\n",
    "print(\"Classification Report:\\n\", \n",
    "      classification_report(test_label, predictions_multi_nb_clf, target_names = [\"NB\", \"B\"]))"
   ]
  },
  {
   "cell_type": "markdown",
   "id": "6927478e",
   "metadata": {},
   "source": [
    "##### 2) GaussianNB -Naive Bayes Algorithm"
   ]
  },
  {
   "cell_type": "code",
   "execution_count": 26,
   "id": "e86b0203",
   "metadata": {},
   "outputs": [],
   "source": [
    "# GaussianNB is a type of Bayes Algorithm\n",
    "from sklearn.naive_bayes import GaussianNB"
   ]
  },
  {
   "cell_type": "code",
   "execution_count": 27,
   "id": "91cb468f",
   "metadata": {},
   "outputs": [],
   "source": [
    "gau_nb_clf = GaussianNB()"
   ]
  },
  {
   "cell_type": "code",
   "execution_count": 28,
   "id": "4cd8eb53",
   "metadata": {},
   "outputs": [
    {
     "data": {
      "text/plain": [
       "GaussianNB()"
      ]
     },
     "execution_count": 28,
     "metadata": {},
     "output_type": "execute_result"
    }
   ],
   "source": [
    "# training the model on train_set.\n",
    "gau_nb_clf.fit(train_review_vectors.toarray(), train_label) # providing train_review_vectors and train_labels"
   ]
  },
  {
   "cell_type": "code",
   "execution_count": 29,
   "id": "b959eb17",
   "metadata": {},
   "outputs": [],
   "source": [
    "# prediction on test_review_vectors\n",
    "predictions_gau_nb_clf = gau_nb_clf.predict(test_review_vectors.toarray())"
   ]
  },
  {
   "cell_type": "code",
   "execution_count": 30,
   "id": "248b2609",
   "metadata": {},
   "outputs": [
    {
     "name": "stdout",
     "output_type": "stream",
     "text": [
      "First five groud_truth labels of test_label:\n",
      "       Classes_Labels\n",
      "583                1\n",
      "1968               1\n",
      "1253               1\n",
      "1103               0\n",
      "925                0\n",
      "First five Predicted:\n",
      " [1 0 1 0 1]\n"
     ]
    }
   ],
   "source": [
    "# comparing the true_labels and predicted_labels\n",
    "print(\"First five groud_truth labels of test_label:\\n\", test_label[:5])\n",
    "print(\"First five Predicted:\\n\", predictions_gau_nb_clf[:5])"
   ]
  },
  {
   "cell_type": "code",
   "execution_count": 31,
   "id": "73c59925",
   "metadata": {},
   "outputs": [
    {
     "name": "stdout",
     "output_type": "stream",
     "text": [
      "Performance Evaluation of GaussianNB (GNB) Algorithm:\n",
      "Confusion Matrix:\n",
      " [[353   4]\n",
      " [105 133]]\n",
      "Accuracy: 67.22689075630252\n",
      "Classification Report:\n",
      "               precision    recall  f1-score   support\n",
      "\n",
      "          NB       0.78      0.64      0.70       357\n",
      "           B       0.57      0.72      0.64       238\n",
      "\n",
      "    accuracy                           0.67       595\n",
      "   macro avg       0.67      0.68      0.67       595\n",
      "weighted avg       0.69      0.67      0.68       595\n",
      "\n"
     ]
    }
   ],
   "source": [
    "# Performnce Evaluation of GaussianNB (GNB)\n",
    "print(\"Performance Evaluation of GaussianNB (GNB) Algorithm:\")\n",
    "print(\"Confusion Matrix:\\n\", confusion_matrix(test_label, predictions_multi_nb_clf) )\n",
    "\n",
    "gau_nb_clf_acc = accuracy_score(test_label, predictions_gau_nb_clf)*100.0\n",
    "\n",
    "print(\"Accuracy:\", gau_nb_clf_acc )\n",
    "\n",
    "print(\"Classification Report:\\n\", \n",
    "      classification_report(test_label, predictions_gau_nb_clf, target_names = [\"NB\", \"B\"]))"
   ]
  },
  {
   "cell_type": "markdown",
   "id": "e7502865",
   "metadata": {},
   "source": [
    "##### 3) Decision Tree Classification Algorithm"
   ]
  },
  {
   "cell_type": "code",
   "execution_count": 32,
   "id": "5489227f",
   "metadata": {},
   "outputs": [],
   "source": [
    "from sklearn.tree import DecisionTreeClassifier"
   ]
  },
  {
   "cell_type": "code",
   "execution_count": 33,
   "id": "087170a0",
   "metadata": {},
   "outputs": [],
   "source": [
    "dec_tree_clf = DecisionTreeClassifier()"
   ]
  },
  {
   "cell_type": "code",
   "execution_count": 34,
   "id": "3b42aa4c",
   "metadata": {},
   "outputs": [
    {
     "data": {
      "text/plain": [
       "DecisionTreeClassifier()"
      ]
     },
     "execution_count": 34,
     "metadata": {},
     "output_type": "execute_result"
    }
   ],
   "source": [
    "# training the model on train_set.\n",
    "dec_tree_clf.fit(train_review_vectors.toarray(), train_label) # providing train_review_vectors and train_labels"
   ]
  },
  {
   "cell_type": "code",
   "execution_count": 35,
   "id": "037d3741",
   "metadata": {},
   "outputs": [],
   "source": [
    "# prediction on test_review_vectors\n",
    "predictions_dec_tree_clf = dec_tree_clf.predict(test_review_vectors.toarray())"
   ]
  },
  {
   "cell_type": "code",
   "execution_count": 36,
   "id": "02e838ea",
   "metadata": {},
   "outputs": [
    {
     "name": "stdout",
     "output_type": "stream",
     "text": [
      "First five groud_truth labels of test_label:\n",
      "       Classes_Labels\n",
      "583                1\n",
      "1968               1\n",
      "1253               1\n",
      "1103               0\n",
      "925                0\n",
      "First five Predicted:\n",
      " [1 1 0 0 0]\n"
     ]
    }
   ],
   "source": [
    "# comparing the true_labels and predicted_labels\n",
    "print(\"First five groud_truth labels of test_label:\\n\", test_label[:5])\n",
    "print(\"First five Predicted:\\n\", predictions_dec_tree_clf[:5])"
   ]
  },
  {
   "cell_type": "code",
   "execution_count": 37,
   "id": "613d23b8",
   "metadata": {},
   "outputs": [
    {
     "name": "stdout",
     "output_type": "stream",
     "text": [
      "Performance Evaluation of Decision Tree Algorithm:\n",
      "Confusion Matrix:\n",
      " [[309  48]\n",
      " [ 51 187]]\n",
      "Accuracy: 83.36134453781513\n",
      "Classification Report:\n",
      "               precision    recall  f1-score   support\n",
      "\n",
      "          NB       0.86      0.87      0.86       357\n",
      "           B       0.80      0.79      0.79       238\n",
      "\n",
      "    accuracy                           0.83       595\n",
      "   macro avg       0.83      0.83      0.83       595\n",
      "weighted avg       0.83      0.83      0.83       595\n",
      "\n"
     ]
    }
   ],
   "source": [
    "# Performnce Evaluation of Decision Tree\n",
    "print(\"Performance Evaluation of Decision Tree Algorithm:\")\n",
    "print(\"Confusion Matrix:\\n\", confusion_matrix(test_label, predictions_dec_tree_clf) )\n",
    "\n",
    "dec_tree_clf_acc = accuracy_score(test_label, predictions_dec_tree_clf)*100.0\n",
    "\n",
    "print(\"Accuracy:\", dec_tree_clf_acc )\n",
    "\n",
    "print(\"Classification Report:\\n\", \n",
    "      classification_report(test_label, predictions_dec_tree_clf, target_names = [\"NB\", \"B\"]))"
   ]
  },
  {
   "cell_type": "markdown",
   "id": "578f6057",
   "metadata": {},
   "source": [
    "##### 4) Random Forest Classification Algorithm"
   ]
  },
  {
   "cell_type": "code",
   "execution_count": 38,
   "id": "b66d5f9d",
   "metadata": {},
   "outputs": [],
   "source": [
    "from sklearn.ensemble import  RandomForestClassifier"
   ]
  },
  {
   "cell_type": "code",
   "execution_count": 39,
   "id": "ef605711",
   "metadata": {},
   "outputs": [],
   "source": [
    "rand_for_clf = RandomForestClassifier(n_estimators = 200)"
   ]
  },
  {
   "cell_type": "code",
   "execution_count": 40,
   "id": "8d21a01e",
   "metadata": {},
   "outputs": [
    {
     "data": {
      "text/plain": [
       "RandomForestClassifier(n_estimators=200)"
      ]
     },
     "execution_count": 40,
     "metadata": {},
     "output_type": "execute_result"
    }
   ],
   "source": [
    "# training the model on train_set.\n",
    "rand_for_clf.fit(train_review_vectors.toarray(), train_label) # providing train_review_vectors and train_labels"
   ]
  },
  {
   "cell_type": "code",
   "execution_count": 41,
   "id": "04b2669d",
   "metadata": {},
   "outputs": [],
   "source": [
    "# prediction on test_review_vectors\n",
    "predictions_rand_for_clf = rand_for_clf.predict(test_review_vectors.toarray())"
   ]
  },
  {
   "cell_type": "code",
   "execution_count": 42,
   "id": "92da5a47",
   "metadata": {},
   "outputs": [
    {
     "name": "stdout",
     "output_type": "stream",
     "text": [
      "First five groud_truth labels of test_label:\n",
      "       Classes_Labels\n",
      "583                1\n",
      "1968               1\n",
      "1253               1\n",
      "1103               0\n",
      "925                0\n",
      "First five Predicted:\n",
      " [1 1 1 0 0]\n"
     ]
    }
   ],
   "source": [
    "# comparing the true_labels and predicted_labels\n",
    "print(\"First five groud_truth labels of test_label:\\n\", test_label[:5])\n",
    "print(\"First five Predicted:\\n\", predictions_rand_for_clf[:5])"
   ]
  },
  {
   "cell_type": "code",
   "execution_count": 43,
   "id": "f0ddcfec",
   "metadata": {},
   "outputs": [
    {
     "name": "stdout",
     "output_type": "stream",
     "text": [
      "Performance Evaluation of Random Forest (RF) Algorithm:\n",
      "Confusion Matrix:\n",
      " [[319  38]\n",
      " [ 24 214]]\n",
      "Accuracy: 89.57983193277312\n",
      "Classification Report:\n",
      "               precision    recall  f1-score   support\n",
      "\n",
      "          NB       0.93      0.89      0.91       357\n",
      "           B       0.85      0.90      0.87       238\n",
      "\n",
      "    accuracy                           0.90       595\n",
      "   macro avg       0.89      0.90      0.89       595\n",
      "weighted avg       0.90      0.90      0.90       595\n",
      "\n"
     ]
    }
   ],
   "source": [
    "# Performnce Evaluation of Random Forest\n",
    "print(\"Performance Evaluation of Random Forest (RF) Algorithm:\")\n",
    "print(\"Confusion Matrix:\\n\", confusion_matrix(test_label, predictions_rand_for_clf) )\n",
    "\n",
    "rand_for_clf_acc = accuracy_score(test_label, predictions_rand_for_clf)*100.0\n",
    "\n",
    "print(\"Accuracy:\", rand_for_clf_acc )\n",
    "\n",
    "print(\"Classification Report:\\n\", \n",
    "      classification_report(test_label, predictions_rand_for_clf, target_names = [\"NB\", \"B\"]))"
   ]
  },
  {
   "cell_type": "code",
   "execution_count": 44,
   "id": "386b9e80",
   "metadata": {},
   "outputs": [],
   "source": [
    "# combining all algorithms accurices in one table.\n",
    "all_algos_result = {\n",
    "    'Multinomail NB Accuracy': multi_nb_clf_acc,\n",
    "    'Gaussian NB Accuracy' : gau_nb_clf_acc,\n",
    "    'Decision Tree Accuracy': dec_tree_clf_acc,\n",
    "    'Random Forest Accuracy' : rand_for_clf_acc\n",
    "}"
   ]
  },
  {
   "cell_type": "code",
   "execution_count": 45,
   "id": "657b148b",
   "metadata": {},
   "outputs": [
    {
     "name": "stdout",
     "output_type": "stream",
     "text": [
      "Overall Accuracy of all classification algorithms:\n",
      "\n"
     ]
    },
    {
     "data": {
      "text/plain": [
       "{'Multinomail NB Accuracy': 81.68067226890756,\n",
       " 'Gaussian NB Accuracy': 67.22689075630252,\n",
       " 'Decision Tree Accuracy': 83.36134453781513,\n",
       " 'Random Forest Accuracy': 89.57983193277312}"
      ]
     },
     "execution_count": 45,
     "metadata": {},
     "output_type": "execute_result"
    }
   ],
   "source": [
    "print(\"Overall Accuracy of all classification algorithms:\\n\")\n",
    "all_algos_result"
   ]
  },
  {
   "cell_type": "code",
   "execution_count": 46,
   "id": "1f6b4247",
   "metadata": {},
   "outputs": [
    {
     "data": {
      "image/png": "[encoded data removed]",
      "text/plain": [
       "<Figure size 432x288 with 1 Axes>"
      ]
     },
     "metadata": {
      "needs_background": "light"
     },
     "output_type": "display_data"
    }
   ],
   "source": [
    "# display bar chart\n",
    "plt.bar(['MNB'],[multi_nb_clf_acc], color=\"#6d8a74\",width= 0.5)\n",
    "plt.bar(['GNB'],[gau_nb_clf_acc], color=\"#47606d\",width= 0.5)\n",
    "plt.bar(['DT'],[dec_tree_clf_acc], color=\"#615b49\",width= 0.5)\n",
    "plt.bar(['RFT'],[rand_for_clf_acc], color=\"#6a5270\",width= 0.5)\n",
    "plt.xlabel(\"ML Algorithm\")\n",
    "plt.ylabel(\"Accuracy_score\")\n",
    "plt.title(\"Overall Accuracy of all classification algorithms\")\n",
    "plt.show()"
   ]
  },
  {
   "cell_type": "code",
   "execution_count": null,
   "id": "c1fe940c",
   "metadata": {},
   "outputs": [],
   "source": []
  },
  {
   "cell_type": "code",
   "execution_count": null,
   "id": "68116f56",
   "metadata": {},
   "outputs": [],
   "source": []
  }
 ],
 "metadata": {
  "kernelspec": {
   "display_name": "Python 3.9.13 ('base')",
   "language": "python",
   "name": "python3"
  },
  "language_info": {
   "codemirror_mode": {
    "name": "ipython",
    "version": 3
   },
   "file_extension": ".py",
   "mimetype": "text/x-python",
   "name": "python",
   "nbconvert_exporter": "python",
   "pygments_lexer": "ipython3",
   "version": "3.9.13"
  },
  "vscode": {
   "interpreter": {
    "hash": "2f5cef63cf2183520a2df254e42574008b7d0e0f7f7eb25eab8a73f475d99c74"
   }
  }
 },
 "nbformat": 4,
 "nbformat_minor": 5
}
